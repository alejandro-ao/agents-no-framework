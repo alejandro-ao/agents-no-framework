{
 "cells": [
  {
   "cell_type": "code",
   "execution_count": null,
   "metadata": {},
   "outputs": [],
   "source": [
    "%pip install -q -r requirements.txt"
   ]
  },
  {
   "cell_type": "code",
   "execution_count": 3,
   "metadata": {},
   "outputs": [
    {
     "data": {
      "text/plain": [
       "True"
      ]
     },
     "execution_count": 3,
     "metadata": {},
     "output_type": "execute_result"
    }
   ],
   "source": [
    "from dotenv import load_dotenv\n",
    "import os\n",
    "from groq import Groq\n",
    "\n",
    "\n",
    "load_dotenv()"
   ]
  },
  {
   "cell_type": "code",
   "execution_count": 8,
   "metadata": {},
   "outputs": [
    {
     "name": "stdout",
     "output_type": "stream",
     "text": [
      "Fast language models, also known as efficient language models or lightweight language models, have gained significant attention in recent years due to their ability to process and generate natural language text at speeds and scales not previously possible. Here are some key reasons why fast language models are important:\n",
      "\n",
      "1. **Real-time applications**: Fast language models enable real-time applications such as chatbots, virtual assistants, and customer service platforms to respond quickly to user queries, improving the overall user experience.\n",
      "2. **Massive scale**: With the ability to process large volumes of text quickly, fast language models can handle massive amounts of user-generated content, social media posts, and online reviews, enabling applications like sentiment analysis, topic modeling, and language translation.\n",
      "3. **Low-latency interactions**: Fast language models can facilitate low-latency interactions, such as generating responses to voice commands or text-based inputs, ensuring seamless communication and minimizing the delay between user input and output.\n",
      "4. **Scalability**: Fast language models can handle large amounts of data and scale horizontally, making them suitable for cloud-based applications and large-scale language processing tasks.\n",
      "5. **Edge computing**: Fast language models can be deployed on edge devices, enabling applications like smart home assistants, autonomous vehicles, and IoT devices to process and generate language outputs locally, reducing latency and improving performance.\n",
      "6. **Cost-effectiveness**: Fast language models can be less computationally intensive and require fewer resources compared to traditional language models, making them more cost-effective for large-scale applications.\n",
      "7. **Improved search and retrieval**: Fast language models can facilitate fast and accurate search and retrieval of text-based content, enabling applications like search engines, recommendation systems, and content discovery platforms.\n",
      "8. **Enhanced NLP capabilities**: Fast language models can provide improved natural language processing (NLP) capabilities, such as text classification, entity recognition, and language translation, which can drive innovation in fields like healthcare, finance, and education.\n",
      "9. **Adversarial robustness**: Fast language models can be designed to be robust to adversarial attacks, which can improve the security and reliability of language-based applications in critical domains.\n",
      "10. **Future-proofing**: As language-based applications continue to grow in importance and complexity, fast language models can help ensure that these applications remain performant, scalable, and cost-effective, ultimately driving innovation and progress in various industries.\n",
      "\n",
      "In summary, fast language models have significant implications for a wide range of applications, from real-time chatbots to edge computing, search engines, and NLP capabilities.\n"
     ]
    }
   ],
   "source": [
    "client = Groq(api_key=os.environ.get(\"GROQ_API_KEY\"))\n",
    "\n",
    "chat_completion = client.chat.completions.create(\n",
    "    messages=[\n",
    "        {\"role\": \"user\", \"content\": \"Explain the importance of fast language models\"}\n",
    "    ],\n",
    "    model=\"llama3-8b-8192\",\n",
    ")\n",
    "\n",
    "print(chat_completion.choices[0].message.content)"
   ]
  },
  {
   "cell_type": "code",
   "execution_count": 11,
   "metadata": {},
   "outputs": [],
   "source": [
    "class Agent:\n",
    "    def __init__(self, client: Groq, system: str = \"\") -> None:\n",
    "        self.client = client\n",
    "        self.system = system\n",
    "        self.messages: list = []\n",
    "        if self.system:\n",
    "            self.messages.append({\"role\": \"system\", \"content\": system})\n",
    "\n",
    "    def __call__(self, message):\n",
    "        self.messages.append({\"role\": \"user\", \"content\": message})\n",
    "        result = self.execute()\n",
    "        self.messages.append({\"role\": \"assistant\", \"content\": result})\n",
    "        return result\n",
    "\n",
    "    def execute(self):\n",
    "        completion = client.chat.completions.create(\n",
    "            model=\"llama3-70b-8192\", messages=self.messages\n",
    "        )\n",
    "        return completion.choices[0].message.content\n"
   ]
  },
  {
   "cell_type": "code",
   "execution_count": 18,
   "metadata": {},
   "outputs": [],
   "source": [
    "system_prompt = \"\"\"\n",
    "You run in a loop of Thought, Action, PAUSE, Observation.\n",
    "At the end of the loop you output an Answer\n",
    "Use Thought to describe your thoughts about the question you have been asked.\n",
    "Use Action to run one of the actions available to you - then return PAUSE.\n",
    "Observation will be the result of running those actions.\n",
    "\n",
    "Your available actions are:\n",
    "\n",
    "calculate:\n",
    "e.g. calculate: 4 * 7 / 3\n",
    "Runs a calculation and returns the number - uses Python so be sure to use floating point syntax if necessary\n",
    "\n",
    "get_planet_mass:\n",
    "e.g. get_planet_mass: Earth\n",
    "returns weight of the planet in kg\n",
    "\n",
    "Example session:\n",
    "\n",
    "Question: What is the mass of Earth times 2?\n",
    "Thought: I need to find the mass of Earth\n",
    "Action: get_planet_mass: Earth\n",
    "PAUSE \n",
    "\n",
    "You will be called again with this:\n",
    "\n",
    "Observation: 5.972e24\n",
    "\n",
    "Thought: I need to multiply this by 2\n",
    "Action: calculate: 5.972e24 * 2\n",
    "PAUSE\n",
    "\n",
    "You will be called again with this: \n",
    "\n",
    "Observation: 1,1944×10e25\n",
    "\n",
    "If you have the answer, output it as the Answer.\n",
    "\n",
    "Answer: The mass of Earth times 2 is 1,1944×10e25.\n",
    "\n",
    "Now it's your turn:\n",
    "\"\"\".strip()\n",
    "\n",
    "\n",
    "def calculate(operation: str) -> float:\n",
    "    return eval(operation)\n",
    "\n",
    "\n",
    "def get_planet_mass(planet) -> float:\n",
    "    if planet == \"earth\":\n",
    "        return 5.972e24\n",
    "    if planet == \"mars\":\n",
    "        return 6.39e23\n",
    "    if planet == \"jupiter\":\n",
    "        return 1.898e27\n",
    "    if planet == \"saturn\":\n",
    "        return 5.683e26\n",
    "    if planet == \"uranus\":\n",
    "        return 8.681e25\n",
    "    if planet == \"neptune\":\n",
    "        return 1.024e26\n",
    "    if planet == \"mercury\":\n",
    "        return 3.285e23\n",
    "    if planet == \"venus\":\n",
    "        return 4.867e24\n",
    "    return None"
   ]
  },
  {
   "cell_type": "code",
   "execution_count": 19,
   "metadata": {},
   "outputs": [],
   "source": [
    "neil_tyson = Agent(client=client, system=system_prompt)"
   ]
  },
  {
   "cell_type": "code",
   "execution_count": 20,
   "metadata": {},
   "outputs": [
    {
     "name": "stdout",
     "output_type": "stream",
     "text": [
      "Thought: I need to find the mass of Mercury\n"
     ]
    }
   ],
   "source": [
    "result = neil_tyson(\"What is the mass of Mercury times 5?\")\n",
    "print(result)"
   ]
  },
  {
   "cell_type": "code",
   "execution_count": 22,
   "metadata": {},
   "outputs": [
    {
     "name": "stdout",
     "output_type": "stream",
     "text": [
      "Action: get_planet_mass: Mercury\n",
      "PAUSE\n"
     ]
    }
   ],
   "source": [
    "result = neil_tyson(result)\n",
    "print(result)"
   ]
  },
  {
   "cell_type": "code",
   "execution_count": 23,
   "metadata": {},
   "outputs": [
    {
     "name": "stdout",
     "output_type": "stream",
     "text": [
      "3.285e+23\n"
     ]
    }
   ],
   "source": [
    "result = get_planet_mass(\"mercury\")\n",
    "print(result)"
   ]
  },
  {
   "cell_type": "code",
   "execution_count": 24,
   "metadata": {},
   "outputs": [
    {
     "data": {
      "text/plain": [
       "'Observation: 3.285e+23'"
      ]
     },
     "execution_count": 24,
     "metadata": {},
     "output_type": "execute_result"
    }
   ],
   "source": [
    "next_prompt = \"Observation: {}\".format(result)\n",
    "next_prompt"
   ]
  },
  {
   "cell_type": "code",
   "execution_count": 27,
   "metadata": {},
   "outputs": [
    {
     "name": "stdout",
     "output_type": "stream",
     "text": [
      "Thought: I need to multiply this by 5\n"
     ]
    }
   ],
   "source": [
    "result = neil_tyson(next_prompt)\n",
    "print(result)"
   ]
  },
  {
   "cell_type": "code",
   "execution_count": 28,
   "metadata": {},
   "outputs": [
    {
     "name": "stdout",
     "output_type": "stream",
     "text": [
      "Action: calculate: 3.285e+23 * 5\n",
      "PAUSE\n"
     ]
    }
   ],
   "source": [
    "result = neil_tyson(next_prompt)\n",
    "print(result)"
   ]
  },
  {
   "cell_type": "code",
   "execution_count": 29,
   "metadata": {},
   "outputs": [
    {
     "name": "stdout",
     "output_type": "stream",
     "text": [
      "1.6425e+24\n"
     ]
    }
   ],
   "source": [
    "result = calculate(\"3.285e23 * 5\")\n",
    "print(result)"
   ]
  },
  {
   "cell_type": "code",
   "execution_count": 30,
   "metadata": {},
   "outputs": [
    {
     "data": {
      "text/plain": [
       "'Observation: 1.6425e+24'"
      ]
     },
     "execution_count": 30,
     "metadata": {},
     "output_type": "execute_result"
    }
   ],
   "source": [
    "next_prompt = \"Observation: {}\".format(result)\n",
    "next_prompt"
   ]
  },
  {
   "cell_type": "code",
   "execution_count": 31,
   "metadata": {},
   "outputs": [],
   "source": [
    "result = neil_tyson(next_prompt)\n",
    "result"
   ]
  },
  {
   "cell_type": "code",
   "execution_count": 35,
   "metadata": {},
   "outputs": [
    {
     "name": "stdout",
     "output_type": "stream",
     "text": [
      "You run in a loop of Thought, Action, PAUSE, Observation.\n",
      "At the end of the loop you output an Answer\n",
      "Use Thought to describe your thoughts about the question you have been asked.\n",
      "Use Action to run one of the actions available to you - then return PAUSE.\n",
      "Observation will be the result of running those actions.\n",
      "\n",
      "Your available actions are:\n",
      "\n",
      "calculate:\n",
      "e.g. calculate: 4 * 7 / 3\n",
      "Runs a calculation and returns the number - uses Python so be sure to use floating point syntax if necessary\n",
      "\n",
      "get_planet_mass:\n",
      "e.g. get_planet_mass: Earth\n",
      "returns weight of the planet in kg\n",
      "\n",
      "Example session:\n",
      "\n",
      "Question: What is the mass of Earth times 2?\n",
      "Thought: I need to find the mass of Earth\n",
      "Action: get_planet_mass: Earth\n",
      "PAUSE \n",
      "\n",
      "You will be called again with this:\n",
      "\n",
      "Observation: 5.972e24\n",
      "\n",
      "Thought: I need to multiply this by 2\n",
      "Action: calculate: 5.972e24 * 2\n",
      "PAUSE\n",
      "\n",
      "You will be called again with this: \n",
      "\n",
      "Observation: 1,1944×10e25\n",
      "\n",
      "If you have the answer, output it as the Answer.\n",
      "\n",
      "Answer: The mass of Earth times 2 is 1,1944×10e25\n",
      "What is the mass of Mercury times 5?\n",
      "Thought: I need to find the mass of Mercury\n",
      "Thought: I need to find the mass of Mercury\n",
      "Action: get_planet_mass: Mercury\n",
      "PAUSE\n",
      "Observation: 3.285e+23\n",
      "Thought: I need to multiply this by 5\n",
      "Observation: 3.285e+23\n",
      "Action: calculate: 3.285e+23 * 5\n",
      "PAUSE\n",
      "Observation: 1.6425e+24\n",
      "Answer: The mass of Mercury times 5 is 1.6425e+24\n"
     ]
    }
   ],
   "source": [
    "for msg in neil_tyson.messages:\n",
    "    print(msg['content'])"
   ]
  },
  {
   "cell_type": "code",
   "execution_count": null,
   "metadata": {},
   "outputs": [],
   "source": []
  }
 ],
 "metadata": {
  "language_info": {
   "name": "python"
  }
 },
 "nbformat": 4,
 "nbformat_minor": 2
}
